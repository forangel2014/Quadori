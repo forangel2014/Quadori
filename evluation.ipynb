{
 "cells": [
  {
   "cell_type": "code",
   "execution_count": 1,
   "metadata": {},
   "outputs": [],
   "source": [
    "from inductor import BartInductor\n",
    "\n",
    "inductor = BartInductor()"
   ]
  },
  {
   "cell_type": "code",
   "execution_count": 3,
   "metadata": {},
   "outputs": [
    {
     "name": "stdout",
     "output_type": "stream",
     "text": [
      "<mask> is the capital and largest city of <mask>.\n",
      "<mask> is the largest city in <mask>.\n",
      "<mask> is the most populous state in <mask>.\n",
      "<mask> is the capital of <mask>.\n",
      "<mask> is a state in <mask>.\n",
      "<mask> is a capital of <mask>.\n",
      "<mask> has one of the highest rates of poverty in <mask>.\n",
      "<mask> is a major commercial and financial centre of <mask>.\n",
      "<mask> was then a part of <mask>.\n",
      "<mask>, the capital of the country, is the largest city in <mask>.\n"
     ]
    }
   ],
   "source": [
    "rule = '<mask> is the capital of <mask>.'\n",
    "generated_texts = inductor.generate(rule)\n",
    "\n",
    "for text in generated_texts:\n",
    "    print(text)"
   ]
  }
 ],
 "metadata": {
  "interpreter": {
   "hash": "3d9c0d567a08365ac6870130ed74c0876c8668eab2632ec05edb70a9f82a0cd0"
  },
  "kernelspec": {
   "display_name": "Python 3.8.0 64-bit ('ori': conda)",
   "name": "python3"
  },
  "language_info": {
   "codemirror_mode": {
    "name": "ipython",
    "version": 3
   },
   "file_extension": ".py",
   "mimetype": "text/x-python",
   "name": "python",
   "nbconvert_exporter": "python",
   "pygments_lexer": "ipython3",
   "version": "3.8.0"
  },
  "orig_nbformat": 4
 },
 "nbformat": 4,
 "nbformat_minor": 2
}
